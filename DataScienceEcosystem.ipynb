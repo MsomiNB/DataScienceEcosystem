{
 "cells": [
  {
   "cell_type": "markdown",
   "id": "b66c2dbe-cce0-478f-b8ab-3dc6865b7d00",
   "metadata": {},
   "source": [
    "# Data Science Tools and Ecosystem"
   ]
  },
  {
   "cell_type": "markdown",
   "id": "c9d59c30-004e-4970-b255-24283994c1fd",
   "metadata": {
    "tags": []
   },
   "source": [
    "In this notebook, Data Science Tools and Ecosystem are summarized."
   ]
  },
  {
   "cell_type": "markdown",
   "id": "1d887fd6-bb75-4d18-b6d3-a91046e16cf5",
   "metadata": {},
   "source": [
    "Some of the popular languages that Data Scientists use are: \n",
    "\n",
    "1. Python\n",
    "2. R\n",
    "3. SQL\n",
    "4. Java\n",
    "5. C++\n",
    "6. Scala"
   ]
  },
  {
   "cell_type": "markdown",
   "id": "75017246-d419-4f3b-940f-31a0ab48712b",
   "metadata": {},
   "source": [
    "Some of the commonly used libraries used by Data Scientists include:\n",
    "\n",
    "1. NumPy \n",
    "2. Pandas\n",
    "3. Matplotlib\n",
    "4. PyTorch\n",
    "5. TensorFlow\n",
    "6. caret"
   ]
  },
  {
   "cell_type": "markdown",
   "id": "72966207-4fe9-4e92-a5d7-8f58072cfccf",
   "metadata": {
    "tags": []
   },
   "source": [
    "|Data Science Tools|\n",
    "|-----|\n",
    "|Jupyter Notebook|\n",
    "|RStudio|\n",
    "|Spyder|\n",
    "|Anaconda|\n",
    "|TensorFlow|\n",
    "|Apache Zeppelin|"
   ]
  },
  {
   "cell_type": "markdown",
   "id": "eecce372-a4f3-4042-843e-90921fda54a0",
   "metadata": {},
   "source": [
    "### Below are a few examples of evaluating arithmetic expressions in Python"
   ]
  },
  {
   "cell_type": "code",
   "execution_count": 2,
   "id": "5c977301-e1a0-4300-8094-39cdab593756",
   "metadata": {},
   "outputs": [
    {
     "name": "stdout",
     "output_type": "stream",
     "text": [
      "17\n"
     ]
    }
   ],
   "source": [
    "#This a simple arithmetic expression to mutiply then add integers\n",
    "\n",
    "Evaluate = (3*4)+5\n",
    "print (Evaluate)"
   ]
  },
  {
   "cell_type": "code",
   "execution_count": 3,
   "id": "b3543bd2-a96e-46cc-b2a1-737260e1e304",
   "metadata": {},
   "outputs": [
    {
     "name": "stdout",
     "output_type": "stream",
     "text": [
      "3 hr  20 min\n"
     ]
    }
   ],
   "source": [
    "#This will convert 200 minutes to hours by diving by 60\n",
    "\n",
    "min = 200\n",
    "hr = min // 60\n",
    "remainder = min % 60 \n",
    "print (hr, \"hr\", \"\",  remainder, \"min\")"
   ]
  },
  {
   "cell_type": "markdown",
   "id": "ba2a0ef3-2a84-49bd-b9b4-aba2c9b94ef9",
   "metadata": {},
   "source": [
    "Objectives:\n",
    "\n",
    "- Create a Jupyter Notebook\n",
    "- Create markdown cells with titles using deferent H style headings\n",
    "- List Popular languages for Data Science\n",
    "- List commonly used libraries used in Data Science\n",
    "- List development environment open source tools in Data Science\n",
    "- Create a code cell and evaluate arithmetic expression\n",
    "- Create a code cell and convert minutes to hours"
   ]
  },
  {
   "cell_type": "markdown",
   "id": "d2400630-ec43-4ae5-8754-b2ff77a37ffb",
   "metadata": {},
   "source": [
    "## Author\n",
    "Nkululeko Msomi"
   ]
  },
  {
   "cell_type": "code",
   "execution_count": null,
   "id": "c598d844-86c9-4b7a-b009-c43c682d2bce",
   "metadata": {},
   "outputs": [],
   "source": []
  }
 ],
 "metadata": {
  "kernelspec": {
   "display_name": "Python",
   "language": "python",
   "name": "conda-env-python-py"
  },
  "language_info": {
   "codemirror_mode": {
    "name": "ipython",
    "version": 3
   },
   "file_extension": ".py",
   "mimetype": "text/x-python",
   "name": "python",
   "nbconvert_exporter": "python",
   "pygments_lexer": "ipython3",
   "version": "3.7.12"
  }
 },
 "nbformat": 4,
 "nbformat_minor": 5
}
